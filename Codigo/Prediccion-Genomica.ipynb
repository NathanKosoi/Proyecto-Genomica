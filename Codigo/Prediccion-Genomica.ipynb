{
  "nbformat": 4,
  "nbformat_minor": 0,
  "metadata": {
    "colab": {
      "provenance": []
    },
    "kernelspec": {
      "name": "python3",
      "display_name": "Python 3"
    },
    "language_info": {
      "name": "python"
    }
  },
  "cells": [
    {
      "cell_type": "markdown",
      "source": [
        "## Predicción de Fenotipos usando redes neuronales convolucionales e información genómica.\n"
      ],
      "metadata": {
        "id": "cVtGuu-QRG5w"
      }
    },
    {
      "cell_type": "markdown",
      "source": [
        "Los datos que urilizaremos serán los del dataset de SoyNAM, el cual recopila información genómica (SNP's) y su correspondiente medición fenotípica, en este caso, la medición de proteína de la soya.\n",
        "\n",
        "Crearemos una red neuronal convolucional que se encargará de predecir el valor fenotípico mediante una entrada (array) que contiene discretizados aquellos SNP que el especimen en cuestión posee.\n",
        "\n",
        "La red neuronal al final será evaluada mediante el coeficiente de correlación de Pearson.\n",
        "\n",
        "El código fue basado en el código que se encuentra en https://github.com/kateyliu/DL_gwas, los comentarios en el código son mi explicación.\n"
      ],
      "metadata": {
        "id": "xtMl0mLzRML_"
      }
    },
    {
      "cell_type": "markdown",
      "source": [
        "Se empieza por importar todas las paqueterías necesarias. Cabe aclarar que se está usando python 2.7, pero debería correr con versiones más actuales."
      ],
      "metadata": {
        "id": "vsPy11LxRRmo"
      }
    },
    {
      "cell_type": "code",
      "execution_count": 1,
      "metadata": {
        "id": "K7FnUCPfJ_qz"
      },
      "outputs": [],
      "source": [
        "from __future__ import print_function\n",
        "import numpy as np\n",
        "import random\n",
        "import pandas as pd\n",
        "from scipy import stats\n",
        "import sys, os\n",
        "import logging\n",
        "import tensorflow as tf\n",
        "from keras import layers\n",
        "from keras import regularizers\n",
        "from keras.models import Model\n",
        "from keras.models import Sequential\n",
        "from keras.layers import *\n",
        "from keras.regularizers import l1,l2, L1L2\n",
        "from sklearn.metrics.pairwise import cosine_similarity\n",
        "import keras\n",
        "import keras.utils.np_utils as kutils\n",
        "from keras.optimizers import SGD\n",
        "from keras.callbacks import EarlyStopping,Callback,ModelCheckpoint,ReduceLROnPlateau\n",
        "from scipy.stats.stats import pearsonr\n",
        "from sklearn.metrics import mean_squared_error,r2_score,mean_absolute_error\n",
        "from sklearn.model_selection import train_test_split\n",
        "from sklearn.preprocessing import StandardScaler, MinMaxScaler\n",
        "from sklearn import datasets, linear_model\n",
        "import itertools\n",
        "\n",
        "import matplotlib\n",
        "matplotlib.use('Agg')\n",
        "import matplotlib.pyplot as plt\n",
        "import math as m\n",
        "import keras.backend as K\n",
        "import sklearn "
      ]
    },
    {
      "cell_type": "markdown",
      "source": [
        "Las funciones definidas a continuación servirán en primer lugar para procesar los datos, pues, necesitamos utilizar la codificación one_hot. Esto es debido a que queremos discretizar cada SNP para después alimentar la red neuronal. Cabe destacar que cada SNP consistirá de un vector de 4 entradas, con un 1 en una entrada y 0 en las demás. Esto representa si el SNP es Homocigoto dominante, Heterocigoto, si no se sabe o si es homocigoto recesivo.\n",
        "\n",
        "Sobre la red neuronal, es importante notar que el tiempo de ejecución del programa dependerá en gran medida del número de épocas (epoch). En mi caso, usando google colab, tomó 30 minutos realizar el código con 50 épocas.\n",
        "\n",
        "La red neuronal consta de capas convolucionales, dos capas de dropout para evitar overfitting y una ultima capa densa de neuronas."
      ],
      "metadata": {
        "id": "-cr7FIh1RXxY"
      }
    },
    {
      "cell_type": "code",
      "source": [
        "nb_classes = 4\n",
        "\n",
        "def indices_to_one_hot(data,nb_classes):\n",
        "\t\n",
        "\ttargets = np.array(data).reshape(-1)\n",
        "\t\n",
        "\treturn np.eye(nb_classes)[targets]\n",
        "\t\n",
        "\n",
        "def readData(input):\n",
        "\t\n",
        "\tdata = pd.read_csv(input,sep='\\t',header=0,na_values='nan')\n",
        "\tSNP = data.iloc[:,4:].values\n",
        "\tpheno = data.iloc[:,1].values\n",
        "\tfolds = data.iloc[:,0].values\n",
        "\t\n",
        "\tarr = np.empty(shape=(SNP.shape[0],SNP.shape[1] , nb_classes))\n",
        "\t\n",
        "\tfor i in range(0,SNP.shape[0]):\n",
        "\t\tarr[i] = indices_to_one_hot(pd.to_numeric(SNP[i],downcast='signed'), nb_classes)\n",
        "\t\t\n",
        "\treturn arr,pheno,folds\n",
        "\n",
        "\t\n",
        "def resnet(input):\n",
        "\t\n",
        "\tinputs = Input(shape=(input.shape[1],nb_classes))\n",
        "\t\n",
        "\t\n",
        "\tx = Conv1D(10,4,padding='same',activation = 'linear',kernel_initializer = 'TruncatedNormal', kernel_regularizer=regularizers.l2(0.1),bias_regularizer = regularizers.l2(0.01))(inputs)\n",
        "\t\n",
        "\tx = Conv1D(10,20,padding='same',activation = 'linear', kernel_initializer = 'TruncatedNormal',kernel_regularizer=regularizers.l2(0.1),bias_regularizer = regularizers.l2(0.01))(x)\n",
        "\t\t\n",
        "\tx = Dropout(0.75)(x)\n",
        "\t\n",
        "\tshortcut = Conv1D(10,4,padding='same',activation = 'linear',kernel_initializer = 'TruncatedNormal', kernel_regularizer=regularizers.l2(0.1),bias_regularizer = regularizers.l2(0.01))(inputs)\n",
        "\tx = layers.add([shortcut,x])\n",
        "\t\n",
        "\tx = Conv1D(10,4,padding='same',activation = 'linear',kernel_initializer = 'TruncatedNormal', kernel_regularizer=regularizers.l2(0.1),bias_regularizer = regularizers.l2(0.01))(x)\n",
        "\t\n",
        "\tx = Dropout(0.75)(x)\n",
        "\tx = Flatten()(x)\n",
        "\t\n",
        "\tx = Dropout(0.75)(x)\n",
        "\t\n",
        "\toutputs = Dense(1,activation = isru,bias_regularizer = regularizers.l2(0.01),kernel_initializer = 'TruncatedNormal',name = 'out')(x)\n",
        "\t\n",
        "\tmodel = Model(inputs = inputs,outputs = outputs)\n",
        "\tmodel.compile(loss='mean_squared_error',optimizer=keras.optimizers.Adam(lr=0.001),metrics=['mae'])\n",
        "\t\n",
        "\treturn model\n",
        "\n",
        "\n",
        "a= 0.02  \n",
        "\n",
        "def isru(x):\n",
        "\treturn  x/(K.sqrt(1+a*K.square(x)))\n",
        "\t\n",
        "\n",
        "\n",
        "def model_train(test,val,train,testPheno,valPheno,trainPheno,model_save,weights_save):\n",
        "\t\n",
        "\tbatch_size = 250\n",
        "\tearlystop = 5\n",
        "\tepoch = 50\n",
        "\tearly_stopping = EarlyStopping(monitor='val_mean_absolute_error', patience=earlystop)\n",
        "\t\n",
        "\tmodel = resnet(train)\n",
        "\thistory = model.fit(train, trainPheno, batch_size=batch_size, epochs=epoch, validation_data=(val,valPheno),callbacks=[early_stopping],shuffle= True)\n",
        "\t\n",
        "\t#model.save(model_save)\n",
        "\t#model.save_weights(weights_save)\t\n",
        "\t\n",
        "\tpred = model.predict(test)\n",
        "\tpred.shape = (pred.shape[0],)\t\t\n",
        "\t\n",
        "\treturn pred\n",
        "\t"
      ],
      "metadata": {
        "id": "KuaeBVWkKPYg"
      },
      "execution_count": 2,
      "outputs": []
    },
    {
      "cell_type": "markdown",
      "source": [
        "Es momento de procesar los datos para que estos puedan ser asimilados por la red neuronal. Originalmente el artículo usa un método llamado \"Ten-Fold Cross-Validation\" con el objetivo de disminuir el error estocástico de la predicción, es decir, evitar que los datos quedasen mal distribuidos en la muestra. Pero esto aumenta el tiempo de ejecución 10 veces, por lo tanto decidí utilizar un solo \"fold\" por ello el rango está entre 1 y 2, es decir i=1 en este código. Pero preservo la oportunidad de aumentar el número de \"fold\", solo basta cambiar el segundo parámetro del rango a uno más alto (originalmente 11 en vez de 2)."
      ],
      "metadata": {
        "id": "Gsq4cCI3YdWr"
      }
    },
    {
      "cell_type": "code",
      "source": [
        "IMP_input =  \"IMP_protein.txt\"\n",
        "\n",
        "imp_SNP,imp_pheno, folds = readData(IMP_input)\n",
        "\n",
        "\n",
        "PHENOTYPE = imp_pheno\n",
        "\n",
        "for i in range(1,2):\n",
        "  \n",
        "  testIdx = np.where(folds == i)\n",
        "  if i == 10: \n",
        "    valIdx = np.where(folds == 1)\n",
        "    trainIdx = np.intersect1d(np.where(folds != i),np.where(folds != 1))\n",
        "  else:\n",
        "    valIdx = np.where(folds == i+1)\n",
        "    trainIdx = np.intersect1d(np.where(folds != i),np.where(folds != i+1))\n",
        "  \n",
        "  trainSNP , trainPheno = imp_SNP[trainIdx], PHENOTYPE[trainIdx]\n",
        "  valSNP, valPheno = imp_SNP[valIdx],PHENOTYPE[valIdx]\n",
        "  testSNP,testPheno = imp_SNP[testIdx],PHENOTYPE[testIdx]\n"
      ],
      "metadata": {
        "id": "KLfCdDmkKY9u"
      },
      "execution_count": 3,
      "outputs": []
    },
    {
      "cell_type": "markdown",
      "source": [
        "A continuación se realiza el entrenamiento de la red neuronal. Guardo el resultado en una variable. Nótese que si se quisiera hacer el \"Ten-Fold Cross-Validation\" habría que crear un array con las predicciones (o alguna medida de precisión) para cada repetición."
      ],
      "metadata": {
        "id": "Sgh1urmfaxk4"
      }
    },
    {
      "cell_type": "code",
      "source": [
        "predicciones=model_train(testSNP,valSNP,trainSNP,testPheno,valPheno,trainPheno,'model_IMP/model_'+str(i)+'.txt','model_IMP/model_weights'+str(i)+'.h5')"
      ],
      "metadata": {
        "colab": {
          "base_uri": "https://localhost:8080/"
        },
        "id": "rhb6U7whNoxX",
        "outputId": "02378175-cb4d-4b91-9613-209e65fc4915"
      },
      "execution_count": 4,
      "outputs": [
        {
          "output_type": "stream",
          "name": "stderr",
          "text": [
            "/usr/local/lib/python3.8/dist-packages/keras/optimizers/optimizer_v2/adam.py:110: UserWarning: The `lr` argument is deprecated, use `learning_rate` instead.\n",
            "  super(Adam, self).__init__(name, **kwargs)\n"
          ]
        },
        {
          "output_type": "stream",
          "name": "stdout",
          "text": [
            "Epoch 1/50\n",
            "17/17 [==============================] - ETA: 0s - loss: 2.0917 - mae: 0.9972"
          ]
        },
        {
          "output_type": "stream",
          "name": "stderr",
          "text": [
            "WARNING:tensorflow:Early stopping conditioned on metric `val_mean_absolute_error` which is not available. Available metrics are: loss,mae,val_loss,val_mae\n"
          ]
        },
        {
          "output_type": "stream",
          "name": "stdout",
          "text": [
            "\b\b\b\b\b\b\b\b\b\b\b\b\b\b\b\b\b\b\b\b\b\b\b\b\b\b\b\b\b\b\b\b\b\b\b\b\b\b\b\b\b\b\b\b\b\b\b\b\b\b\b\b\b\b\b\b\b\b\b\b\b\b\b\b\b\b\b\b\b\b\b\b\b\b\b\b\b\r17/17 [==============================] - 41s 2s/step - loss: 2.0917 - mae: 0.9972 - val_loss: 1.4503 - val_mae: 0.8015\n",
            "Epoch 2/50\n",
            "17/17 [==============================] - ETA: 0s - loss: 1.5607 - mae: 0.8365"
          ]
        },
        {
          "output_type": "stream",
          "name": "stderr",
          "text": [
            "WARNING:tensorflow:Early stopping conditioned on metric `val_mean_absolute_error` which is not available. Available metrics are: loss,mae,val_loss,val_mae\n"
          ]
        },
        {
          "output_type": "stream",
          "name": "stdout",
          "text": [
            "\b\b\b\b\b\b\b\b\b\b\b\b\b\b\b\b\b\b\b\b\b\b\b\b\b\b\b\b\b\b\b\b\b\b\b\b\b\b\b\b\b\b\b\b\b\b\b\b\b\b\b\b\b\b\b\b\b\b\b\b\b\b\b\b\b\b\b\b\b\b\b\b\b\b\b\b\b\r17/17 [==============================] - 39s 2s/step - loss: 1.5607 - mae: 0.8365 - val_loss: 1.3974 - val_mae: 0.7985\n",
            "Epoch 3/50\n",
            "17/17 [==============================] - ETA: 0s - loss: 1.4643 - mae: 0.8130"
          ]
        },
        {
          "output_type": "stream",
          "name": "stderr",
          "text": [
            "WARNING:tensorflow:Early stopping conditioned on metric `val_mean_absolute_error` which is not available. Available metrics are: loss,mae,val_loss,val_mae\n"
          ]
        },
        {
          "output_type": "stream",
          "name": "stdout",
          "text": [
            "\b\b\b\b\b\b\b\b\b\b\b\b\b\b\b\b\b\b\b\b\b\b\b\b\b\b\b\b\b\b\b\b\b\b\b\b\b\b\b\b\b\b\b\b\b\b\b\b\b\b\b\b\b\b\b\b\b\b\b\b\b\b\b\b\b\b\b\b\b\b\b\b\b\b\b\b\b\r17/17 [==============================] - 40s 2s/step - loss: 1.4643 - mae: 0.8130 - val_loss: 1.3483 - val_mae: 0.7976\n",
            "Epoch 4/50\n",
            "17/17 [==============================] - ETA: 0s - loss: 1.4027 - mae: 0.8042"
          ]
        },
        {
          "output_type": "stream",
          "name": "stderr",
          "text": [
            "WARNING:tensorflow:Early stopping conditioned on metric `val_mean_absolute_error` which is not available. Available metrics are: loss,mae,val_loss,val_mae\n"
          ]
        },
        {
          "output_type": "stream",
          "name": "stdout",
          "text": [
            "\b\b\b\b\b\b\b\b\b\b\b\b\b\b\b\b\b\b\b\b\b\b\b\b\b\b\b\b\b\b\b\b\b\b\b\b\b\b\b\b\b\b\b\b\b\b\b\b\b\b\b\b\b\b\b\b\b\b\b\b\b\b\b\b\b\b\b\b\b\b\b\b\b\b\b\b\b\r17/17 [==============================] - 39s 2s/step - loss: 1.4027 - mae: 0.8042 - val_loss: 1.3008 - val_mae: 0.7933\n",
            "Epoch 5/50\n",
            "17/17 [==============================] - ETA: 0s - loss: 1.3303 - mae: 0.7936"
          ]
        },
        {
          "output_type": "stream",
          "name": "stderr",
          "text": [
            "WARNING:tensorflow:Early stopping conditioned on metric `val_mean_absolute_error` which is not available. Available metrics are: loss,mae,val_loss,val_mae\n"
          ]
        },
        {
          "output_type": "stream",
          "name": "stdout",
          "text": [
            "\b\b\b\b\b\b\b\b\b\b\b\b\b\b\b\b\b\b\b\b\b\b\b\b\b\b\b\b\b\b\b\b\b\b\b\b\b\b\b\b\b\b\b\b\b\b\b\b\b\b\b\b\b\b\b\b\b\b\b\b\b\b\b\b\b\b\b\b\b\b\b\b\b\b\b\b\b\r17/17 [==============================] - 39s 2s/step - loss: 1.3303 - mae: 0.7936 - val_loss: 1.2646 - val_mae: 0.7941\n",
            "Epoch 6/50\n",
            "17/17 [==============================] - ETA: 0s - loss: 1.2896 - mae: 0.7882"
          ]
        },
        {
          "output_type": "stream",
          "name": "stderr",
          "text": [
            "WARNING:tensorflow:Early stopping conditioned on metric `val_mean_absolute_error` which is not available. Available metrics are: loss,mae,val_loss,val_mae\n"
          ]
        },
        {
          "output_type": "stream",
          "name": "stdout",
          "text": [
            "\b\b\b\b\b\b\b\b\b\b\b\b\b\b\b\b\b\b\b\b\b\b\b\b\b\b\b\b\b\b\b\b\b\b\b\b\b\b\b\b\b\b\b\b\b\b\b\b\b\b\b\b\b\b\b\b\b\b\b\b\b\b\b\b\b\b\b\b\b\b\b\b\b\b\b\b\b\r17/17 [==============================] - 39s 2s/step - loss: 1.2896 - mae: 0.7882 - val_loss: 1.2145 - val_mae: 0.7859\n",
            "Epoch 7/50\n",
            "17/17 [==============================] - ETA: 0s - loss: 1.2361 - mae: 0.7843"
          ]
        },
        {
          "output_type": "stream",
          "name": "stderr",
          "text": [
            "WARNING:tensorflow:Early stopping conditioned on metric `val_mean_absolute_error` which is not available. Available metrics are: loss,mae,val_loss,val_mae\n"
          ]
        },
        {
          "output_type": "stream",
          "name": "stdout",
          "text": [
            "\b\b\b\b\b\b\b\b\b\b\b\b\b\b\b\b\b\b\b\b\b\b\b\b\b\b\b\b\b\b\b\b\b\b\b\b\b\b\b\b\b\b\b\b\b\b\b\b\b\b\b\b\b\b\b\b\b\b\b\b\b\b\b\b\b\b\b\b\b\b\b\b\b\b\b\b\b\r17/17 [==============================] - 41s 2s/step - loss: 1.2361 - mae: 0.7843 - val_loss: 1.1834 - val_mae: 0.7860\n",
            "Epoch 8/50\n",
            "17/17 [==============================] - ETA: 0s - loss: 1.2016 - mae: 0.7796"
          ]
        },
        {
          "output_type": "stream",
          "name": "stderr",
          "text": [
            "WARNING:tensorflow:Early stopping conditioned on metric `val_mean_absolute_error` which is not available. Available metrics are: loss,mae,val_loss,val_mae\n"
          ]
        },
        {
          "output_type": "stream",
          "name": "stdout",
          "text": [
            "\b\b\b\b\b\b\b\b\b\b\b\b\b\b\b\b\b\b\b\b\b\b\b\b\b\b\b\b\b\b\b\b\b\b\b\b\b\b\b\b\b\b\b\b\b\b\b\b\b\b\b\b\b\b\b\b\b\b\b\b\b\b\b\b\b\b\b\b\b\b\b\b\b\b\b\b\b\r17/17 [==============================] - 39s 2s/step - loss: 1.2016 - mae: 0.7796 - val_loss: 1.1500 - val_mae: 0.7827\n",
            "Epoch 9/50\n",
            "17/17 [==============================] - ETA: 0s - loss: 1.1720 - mae: 0.7795"
          ]
        },
        {
          "output_type": "stream",
          "name": "stderr",
          "text": [
            "WARNING:tensorflow:Early stopping conditioned on metric `val_mean_absolute_error` which is not available. Available metrics are: loss,mae,val_loss,val_mae\n"
          ]
        },
        {
          "output_type": "stream",
          "name": "stdout",
          "text": [
            "\b\b\b\b\b\b\b\b\b\b\b\b\b\b\b\b\b\b\b\b\b\b\b\b\b\b\b\b\b\b\b\b\b\b\b\b\b\b\b\b\b\b\b\b\b\b\b\b\b\b\b\b\b\b\b\b\b\b\b\b\b\b\b\b\b\b\b\b\b\b\b\b\b\b\b\b\b\r17/17 [==============================] - 39s 2s/step - loss: 1.1720 - mae: 0.7795 - val_loss: 1.1076 - val_mae: 0.7747\n",
            "Epoch 10/50\n",
            "17/17 [==============================] - ETA: 0s - loss: 1.1386 - mae: 0.7758"
          ]
        },
        {
          "output_type": "stream",
          "name": "stderr",
          "text": [
            "WARNING:tensorflow:Early stopping conditioned on metric `val_mean_absolute_error` which is not available. Available metrics are: loss,mae,val_loss,val_mae\n"
          ]
        },
        {
          "output_type": "stream",
          "name": "stdout",
          "text": [
            "\b\b\b\b\b\b\b\b\b\b\b\b\b\b\b\b\b\b\b\b\b\b\b\b\b\b\b\b\b\b\b\b\b\b\b\b\b\b\b\b\b\b\b\b\b\b\b\b\b\b\b\b\b\b\b\b\b\b\b\b\b\b\b\b\b\b\b\b\b\b\b\b\b\b\b\b\b\r17/17 [==============================] - 38s 2s/step - loss: 1.1386 - mae: 0.7758 - val_loss: 1.0864 - val_mae: 0.7736\n",
            "Epoch 11/50\n",
            "17/17 [==============================] - ETA: 0s - loss: 1.1088 - mae: 0.7734"
          ]
        },
        {
          "output_type": "stream",
          "name": "stderr",
          "text": [
            "WARNING:tensorflow:Early stopping conditioned on metric `val_mean_absolute_error` which is not available. Available metrics are: loss,mae,val_loss,val_mae\n"
          ]
        },
        {
          "output_type": "stream",
          "name": "stdout",
          "text": [
            "\b\b\b\b\b\b\b\b\b\b\b\b\b\b\b\b\b\b\b\b\b\b\b\b\b\b\b\b\b\b\b\b\b\b\b\b\b\b\b\b\b\b\b\b\b\b\b\b\b\b\b\b\b\b\b\b\b\b\b\b\b\b\b\b\b\b\b\b\b\b\b\b\b\b\b\b\b\r17/17 [==============================] - 38s 2s/step - loss: 1.1088 - mae: 0.7734 - val_loss: 1.0559 - val_mae: 0.7688\n",
            "Epoch 12/50\n",
            "17/17 [==============================] - ETA: 0s - loss: 1.0781 - mae: 0.7683"
          ]
        },
        {
          "output_type": "stream",
          "name": "stderr",
          "text": [
            "WARNING:tensorflow:Early stopping conditioned on metric `val_mean_absolute_error` which is not available. Available metrics are: loss,mae,val_loss,val_mae\n"
          ]
        },
        {
          "output_type": "stream",
          "name": "stdout",
          "text": [
            "\b\b\b\b\b\b\b\b\b\b\b\b\b\b\b\b\b\b\b\b\b\b\b\b\b\b\b\b\b\b\b\b\b\b\b\b\b\b\b\b\b\b\b\b\b\b\b\b\b\b\b\b\b\b\b\b\b\b\b\b\b\b\b\b\b\b\b\b\b\b\b\b\b\b\b\b\b\r17/17 [==============================] - 38s 2s/step - loss: 1.0781 - mae: 0.7683 - val_loss: 1.0293 - val_mae: 0.7626\n",
            "Epoch 13/50\n",
            "17/17 [==============================] - ETA: 0s - loss: 1.0473 - mae: 0.7605"
          ]
        },
        {
          "output_type": "stream",
          "name": "stderr",
          "text": [
            "WARNING:tensorflow:Early stopping conditioned on metric `val_mean_absolute_error` which is not available. Available metrics are: loss,mae,val_loss,val_mae\n"
          ]
        },
        {
          "output_type": "stream",
          "name": "stdout",
          "text": [
            "\b\b\b\b\b\b\b\b\b\b\b\b\b\b\b\b\b\b\b\b\b\b\b\b\b\b\b\b\b\b\b\b\b\b\b\b\b\b\b\b\b\b\b\b\b\b\b\b\b\b\b\b\b\b\b\b\b\b\b\b\b\b\b\b\b\b\b\b\b\b\b\b\b\b\b\b\b\r17/17 [==============================] - 40s 2s/step - loss: 1.0473 - mae: 0.7605 - val_loss: 1.0073 - val_mae: 0.7594\n",
            "Epoch 14/50\n",
            "17/17 [==============================] - ETA: 0s - loss: 1.0202 - mae: 0.7521"
          ]
        },
        {
          "output_type": "stream",
          "name": "stderr",
          "text": [
            "WARNING:tensorflow:Early stopping conditioned on metric `val_mean_absolute_error` which is not available. Available metrics are: loss,mae,val_loss,val_mae\n"
          ]
        },
        {
          "output_type": "stream",
          "name": "stdout",
          "text": [
            "\b\b\b\b\b\b\b\b\b\b\b\b\b\b\b\b\b\b\b\b\b\b\b\b\b\b\b\b\b\b\b\b\b\b\b\b\b\b\b\b\b\b\b\b\b\b\b\b\b\b\b\b\b\b\b\b\b\b\b\b\b\b\b\b\b\b\b\b\b\b\b\b\b\b\b\b\b\r17/17 [==============================] - 39s 2s/step - loss: 1.0202 - mae: 0.7521 - val_loss: 0.9857 - val_mae: 0.7540\n",
            "Epoch 15/50\n",
            "17/17 [==============================] - ETA: 0s - loss: 0.9963 - mae: 0.7508"
          ]
        },
        {
          "output_type": "stream",
          "name": "stderr",
          "text": [
            "WARNING:tensorflow:Early stopping conditioned on metric `val_mean_absolute_error` which is not available. Available metrics are: loss,mae,val_loss,val_mae\n"
          ]
        },
        {
          "output_type": "stream",
          "name": "stdout",
          "text": [
            "\b\b\b\b\b\b\b\b\b\b\b\b\b\b\b\b\b\b\b\b\b\b\b\b\b\b\b\b\b\b\b\b\b\b\b\b\b\b\b\b\b\b\b\b\b\b\b\b\b\b\b\b\b\b\b\b\b\b\b\b\b\b\b\b\b\b\b\b\b\b\b\b\b\b\b\b\b\r17/17 [==============================] - 42s 2s/step - loss: 0.9963 - mae: 0.7508 - val_loss: 0.9717 - val_mae: 0.7506\n",
            "Epoch 16/50\n",
            "17/17 [==============================] - ETA: 0s - loss: 0.9839 - mae: 0.7483"
          ]
        },
        {
          "output_type": "stream",
          "name": "stderr",
          "text": [
            "WARNING:tensorflow:Early stopping conditioned on metric `val_mean_absolute_error` which is not available. Available metrics are: loss,mae,val_loss,val_mae\n"
          ]
        },
        {
          "output_type": "stream",
          "name": "stdout",
          "text": [
            "\b\b\b\b\b\b\b\b\b\b\b\b\b\b\b\b\b\b\b\b\b\b\b\b\b\b\b\b\b\b\b\b\b\b\b\b\b\b\b\b\b\b\b\b\b\b\b\b\b\b\b\b\b\b\b\b\b\b\b\b\b\b\b\b\b\b\b\b\b\b\b\b\b\b\b\b\b\r17/17 [==============================] - 41s 2s/step - loss: 0.9839 - mae: 0.7483 - val_loss: 0.9616 - val_mae: 0.7516\n",
            "Epoch 17/50\n",
            "17/17 [==============================] - ETA: 0s - loss: 0.9788 - mae: 0.7543"
          ]
        },
        {
          "output_type": "stream",
          "name": "stderr",
          "text": [
            "WARNING:tensorflow:Early stopping conditioned on metric `val_mean_absolute_error` which is not available. Available metrics are: loss,mae,val_loss,val_mae\n"
          ]
        },
        {
          "output_type": "stream",
          "name": "stdout",
          "text": [
            "\b\b\b\b\b\b\b\b\b\b\b\b\b\b\b\b\b\b\b\b\b\b\b\b\b\b\b\b\b\b\b\b\b\b\b\b\b\b\b\b\b\b\b\b\b\b\b\b\b\b\b\b\b\b\b\b\b\b\b\b\b\b\b\b\b\b\b\b\b\b\b\b\b\b\b\b\b\r17/17 [==============================] - 40s 2s/step - loss: 0.9788 - mae: 0.7543 - val_loss: 0.9474 - val_mae: 0.7477\n",
            "Epoch 18/50\n",
            "17/17 [==============================] - ETA: 0s - loss: 0.9599 - mae: 0.7475"
          ]
        },
        {
          "output_type": "stream",
          "name": "stderr",
          "text": [
            "WARNING:tensorflow:Early stopping conditioned on metric `val_mean_absolute_error` which is not available. Available metrics are: loss,mae,val_loss,val_mae\n"
          ]
        },
        {
          "output_type": "stream",
          "name": "stdout",
          "text": [
            "\b\b\b\b\b\b\b\b\b\b\b\b\b\b\b\b\b\b\b\b\b\b\b\b\b\b\b\b\b\b\b\b\b\b\b\b\b\b\b\b\b\b\b\b\b\b\b\b\b\b\b\b\b\b\b\b\b\b\b\b\b\b\b\b\b\b\b\b\b\b\b\b\b\b\b\b\b\r17/17 [==============================] - 39s 2s/step - loss: 0.9599 - mae: 0.7475 - val_loss: 0.9344 - val_mae: 0.7449\n",
            "Epoch 19/50\n",
            "17/17 [==============================] - ETA: 0s - loss: 0.9465 - mae: 0.7442"
          ]
        },
        {
          "output_type": "stream",
          "name": "stderr",
          "text": [
            "WARNING:tensorflow:Early stopping conditioned on metric `val_mean_absolute_error` which is not available. Available metrics are: loss,mae,val_loss,val_mae\n"
          ]
        },
        {
          "output_type": "stream",
          "name": "stdout",
          "text": [
            "\b\b\b\b\b\b\b\b\b\b\b\b\b\b\b\b\b\b\b\b\b\b\b\b\b\b\b\b\b\b\b\b\b\b\b\b\b\b\b\b\b\b\b\b\b\b\b\b\b\b\b\b\b\b\b\b\b\b\b\b\b\b\b\b\b\b\b\b\b\b\b\b\b\b\b\b\b\r17/17 [==============================] - 39s 2s/step - loss: 0.9465 - mae: 0.7442 - val_loss: 0.9279 - val_mae: 0.7449\n",
            "Epoch 20/50\n",
            "17/17 [==============================] - ETA: 0s - loss: 0.9341 - mae: 0.7374"
          ]
        },
        {
          "output_type": "stream",
          "name": "stderr",
          "text": [
            "WARNING:tensorflow:Early stopping conditioned on metric `val_mean_absolute_error` which is not available. Available metrics are: loss,mae,val_loss,val_mae\n"
          ]
        },
        {
          "output_type": "stream",
          "name": "stdout",
          "text": [
            "\b\b\b\b\b\b\b\b\b\b\b\b\b\b\b\b\b\b\b\b\b\b\b\b\b\b\b\b\b\b\b\b\b\b\b\b\b\b\b\b\b\b\b\b\b\b\b\b\b\b\b\b\b\b\b\b\b\b\b\b\b\b\b\b\b\b\b\b\b\b\b\b\b\b\b\b\b\r17/17 [==============================] - 39s 2s/step - loss: 0.9341 - mae: 0.7374 - val_loss: 0.9174 - val_mae: 0.7426\n",
            "Epoch 21/50\n",
            "17/17 [==============================] - ETA: 0s - loss: 0.9364 - mae: 0.7424"
          ]
        },
        {
          "output_type": "stream",
          "name": "stderr",
          "text": [
            "WARNING:tensorflow:Early stopping conditioned on metric `val_mean_absolute_error` which is not available. Available metrics are: loss,mae,val_loss,val_mae\n"
          ]
        },
        {
          "output_type": "stream",
          "name": "stdout",
          "text": [
            "\b\b\b\b\b\b\b\b\b\b\b\b\b\b\b\b\b\b\b\b\b\b\b\b\b\b\b\b\b\b\b\b\b\b\b\b\b\b\b\b\b\b\b\b\b\b\b\b\b\b\b\b\b\b\b\b\b\b\b\b\b\b\b\b\b\b\b\b\b\b\b\b\b\b\b\b\b\r17/17 [==============================] - 38s 2s/step - loss: 0.9364 - mae: 0.7424 - val_loss: 0.9129 - val_mae: 0.7414\n",
            "Epoch 22/50\n",
            "17/17 [==============================] - ETA: 0s - loss: 0.9184 - mae: 0.7362"
          ]
        },
        {
          "output_type": "stream",
          "name": "stderr",
          "text": [
            "WARNING:tensorflow:Early stopping conditioned on metric `val_mean_absolute_error` which is not available. Available metrics are: loss,mae,val_loss,val_mae\n"
          ]
        },
        {
          "output_type": "stream",
          "name": "stdout",
          "text": [
            "\b\b\b\b\b\b\b\b\b\b\b\b\b\b\b\b\b\b\b\b\b\b\b\b\b\b\b\b\b\b\b\b\b\b\b\b\b\b\b\b\b\b\b\b\b\b\b\b\b\b\b\b\b\b\b\b\b\b\b\b\b\b\b\b\b\b\b\b\b\b\b\b\b\b\b\b\b\r17/17 [==============================] - 40s 2s/step - loss: 0.9184 - mae: 0.7362 - val_loss: 0.9039 - val_mae: 0.7365\n",
            "Epoch 23/50\n",
            "17/17 [==============================] - ETA: 0s - loss: 0.9141 - mae: 0.7349"
          ]
        },
        {
          "output_type": "stream",
          "name": "stderr",
          "text": [
            "WARNING:tensorflow:Early stopping conditioned on metric `val_mean_absolute_error` which is not available. Available metrics are: loss,mae,val_loss,val_mae\n"
          ]
        },
        {
          "output_type": "stream",
          "name": "stdout",
          "text": [
            "\b\b\b\b\b\b\b\b\b\b\b\b\b\b\b\b\b\b\b\b\b\b\b\b\b\b\b\b\b\b\b\b\b\b\b\b\b\b\b\b\b\b\b\b\b\b\b\b\b\b\b\b\b\b\b\b\b\b\b\b\b\b\b\b\b\b\b\b\b\b\b\b\b\b\b\b\b\r17/17 [==============================] - 38s 2s/step - loss: 0.9141 - mae: 0.7349 - val_loss: 0.9001 - val_mae: 0.7390\n",
            "Epoch 24/50\n",
            "17/17 [==============================] - ETA: 0s - loss: 0.9143 - mae: 0.7385"
          ]
        },
        {
          "output_type": "stream",
          "name": "stderr",
          "text": [
            "WARNING:tensorflow:Early stopping conditioned on metric `val_mean_absolute_error` which is not available. Available metrics are: loss,mae,val_loss,val_mae\n"
          ]
        },
        {
          "output_type": "stream",
          "name": "stdout",
          "text": [
            "\b\b\b\b\b\b\b\b\b\b\b\b\b\b\b\b\b\b\b\b\b\b\b\b\b\b\b\b\b\b\b\b\b\b\b\b\b\b\b\b\b\b\b\b\b\b\b\b\b\b\b\b\b\b\b\b\b\b\b\b\b\b\b\b\b\b\b\b\b\b\b\b\b\b\b\b\b\r17/17 [==============================] - 38s 2s/step - loss: 0.9143 - mae: 0.7385 - val_loss: 0.8964 - val_mae: 0.7377\n",
            "Epoch 25/50\n",
            "17/17 [==============================] - ETA: 0s - loss: 0.9044 - mae: 0.7302"
          ]
        },
        {
          "output_type": "stream",
          "name": "stderr",
          "text": [
            "WARNING:tensorflow:Early stopping conditioned on metric `val_mean_absolute_error` which is not available. Available metrics are: loss,mae,val_loss,val_mae\n"
          ]
        },
        {
          "output_type": "stream",
          "name": "stdout",
          "text": [
            "\b\b\b\b\b\b\b\b\b\b\b\b\b\b\b\b\b\b\b\b\b\b\b\b\b\b\b\b\b\b\b\b\b\b\b\b\b\b\b\b\b\b\b\b\b\b\b\b\b\b\b\b\b\b\b\b\b\b\b\b\b\b\b\b\b\b\b\b\b\b\b\b\b\b\b\b\b\r17/17 [==============================] - 38s 2s/step - loss: 0.9044 - mae: 0.7302 - val_loss: 0.8942 - val_mae: 0.7392\n",
            "Epoch 26/50\n",
            "17/17 [==============================] - ETA: 0s - loss: 0.8927 - mae: 0.7296"
          ]
        },
        {
          "output_type": "stream",
          "name": "stderr",
          "text": [
            "WARNING:tensorflow:Early stopping conditioned on metric `val_mean_absolute_error` which is not available. Available metrics are: loss,mae,val_loss,val_mae\n"
          ]
        },
        {
          "output_type": "stream",
          "name": "stdout",
          "text": [
            "\b\b\b\b\b\b\b\b\b\b\b\b\b\b\b\b\b\b\b\b\b\b\b\b\b\b\b\b\b\b\b\b\b\b\b\b\b\b\b\b\b\b\b\b\b\b\b\b\b\b\b\b\b\b\b\b\b\b\b\b\b\b\b\b\b\b\b\b\b\b\b\b\b\b\b\b\b\r17/17 [==============================] - 38s 2s/step - loss: 0.8927 - mae: 0.7296 - val_loss: 0.8914 - val_mae: 0.7356\n",
            "Epoch 27/50\n",
            "17/17 [==============================] - ETA: 0s - loss: 0.8833 - mae: 0.7260"
          ]
        },
        {
          "output_type": "stream",
          "name": "stderr",
          "text": [
            "WARNING:tensorflow:Early stopping conditioned on metric `val_mean_absolute_error` which is not available. Available metrics are: loss,mae,val_loss,val_mae\n"
          ]
        },
        {
          "output_type": "stream",
          "name": "stdout",
          "text": [
            "\b\b\b\b\b\b\b\b\b\b\b\b\b\b\b\b\b\b\b\b\b\b\b\b\b\b\b\b\b\b\b\b\b\b\b\b\b\b\b\b\b\b\b\b\b\b\b\b\b\b\b\b\b\b\b\b\b\b\b\b\b\b\b\b\b\b\b\b\b\b\b\b\b\b\b\b\b\r17/17 [==============================] - 38s 2s/step - loss: 0.8833 - mae: 0.7260 - val_loss: 0.8891 - val_mae: 0.7389\n",
            "Epoch 28/50\n",
            "17/17 [==============================] - ETA: 0s - loss: 0.8782 - mae: 0.7262"
          ]
        },
        {
          "output_type": "stream",
          "name": "stderr",
          "text": [
            "WARNING:tensorflow:Early stopping conditioned on metric `val_mean_absolute_error` which is not available. Available metrics are: loss,mae,val_loss,val_mae\n"
          ]
        },
        {
          "output_type": "stream",
          "name": "stdout",
          "text": [
            "\b\b\b\b\b\b\b\b\b\b\b\b\b\b\b\b\b\b\b\b\b\b\b\b\b\b\b\b\b\b\b\b\b\b\b\b\b\b\b\b\b\b\b\b\b\b\b\b\b\b\b\b\b\b\b\b\b\b\b\b\b\b\b\b\b\b\b\b\b\b\b\b\b\b\b\b\b\r17/17 [==============================] - 39s 2s/step - loss: 0.8782 - mae: 0.7262 - val_loss: 0.8820 - val_mae: 0.7342\n",
            "Epoch 29/50\n",
            "17/17 [==============================] - ETA: 0s - loss: 0.8828 - mae: 0.7316"
          ]
        },
        {
          "output_type": "stream",
          "name": "stderr",
          "text": [
            "WARNING:tensorflow:Early stopping conditioned on metric `val_mean_absolute_error` which is not available. Available metrics are: loss,mae,val_loss,val_mae\n"
          ]
        },
        {
          "output_type": "stream",
          "name": "stdout",
          "text": [
            "\b\b\b\b\b\b\b\b\b\b\b\b\b\b\b\b\b\b\b\b\b\b\b\b\b\b\b\b\b\b\b\b\b\b\b\b\b\b\b\b\b\b\b\b\b\b\b\b\b\b\b\b\b\b\b\b\b\b\b\b\b\b\b\b\b\b\b\b\b\b\b\b\b\b\b\b\b\r17/17 [==============================] - 39s 2s/step - loss: 0.8828 - mae: 0.7316 - val_loss: 0.8822 - val_mae: 0.7354\n",
            "Epoch 30/50\n",
            "17/17 [==============================] - ETA: 0s - loss: 0.8723 - mae: 0.7262"
          ]
        },
        {
          "output_type": "stream",
          "name": "stderr",
          "text": [
            "WARNING:tensorflow:Early stopping conditioned on metric `val_mean_absolute_error` which is not available. Available metrics are: loss,mae,val_loss,val_mae\n"
          ]
        },
        {
          "output_type": "stream",
          "name": "stdout",
          "text": [
            "\b\b\b\b\b\b\b\b\b\b\b\b\b\b\b\b\b\b\b\b\b\b\b\b\b\b\b\b\b\b\b\b\b\b\b\b\b\b\b\b\b\b\b\b\b\b\b\b\b\b\b\b\b\b\b\b\b\b\b\b\b\b\b\b\b\b\b\b\b\b\b\b\b\b\b\b\b\r17/17 [==============================] - 40s 2s/step - loss: 0.8723 - mae: 0.7262 - val_loss: 0.8774 - val_mae: 0.7320\n",
            "Epoch 31/50\n",
            "17/17 [==============================] - ETA: 0s - loss: 0.8778 - mae: 0.7292"
          ]
        },
        {
          "output_type": "stream",
          "name": "stderr",
          "text": [
            "WARNING:tensorflow:Early stopping conditioned on metric `val_mean_absolute_error` which is not available. Available metrics are: loss,mae,val_loss,val_mae\n"
          ]
        },
        {
          "output_type": "stream",
          "name": "stdout",
          "text": [
            "\b\b\b\b\b\b\b\b\b\b\b\b\b\b\b\b\b\b\b\b\b\b\b\b\b\b\b\b\b\b\b\b\b\b\b\b\b\b\b\b\b\b\b\b\b\b\b\b\b\b\b\b\b\b\b\b\b\b\b\b\b\b\b\b\b\b\b\b\b\b\b\b\b\b\b\b\b\r17/17 [==============================] - 38s 2s/step - loss: 0.8778 - mae: 0.7292 - val_loss: 0.8778 - val_mae: 0.7351\n",
            "Epoch 32/50\n",
            "17/17 [==============================] - ETA: 0s - loss: 0.8674 - mae: 0.7270"
          ]
        },
        {
          "output_type": "stream",
          "name": "stderr",
          "text": [
            "WARNING:tensorflow:Early stopping conditioned on metric `val_mean_absolute_error` which is not available. Available metrics are: loss,mae,val_loss,val_mae\n"
          ]
        },
        {
          "output_type": "stream",
          "name": "stdout",
          "text": [
            "\b\b\b\b\b\b\b\b\b\b\b\b\b\b\b\b\b\b\b\b\b\b\b\b\b\b\b\b\b\b\b\b\b\b\b\b\b\b\b\b\b\b\b\b\b\b\b\b\b\b\b\b\b\b\b\b\b\b\b\b\b\b\b\b\b\b\b\b\b\b\b\b\b\b\b\b\b\r17/17 [==============================] - 38s 2s/step - loss: 0.8674 - mae: 0.7270 - val_loss: 0.8714 - val_mae: 0.7306\n",
            "Epoch 33/50\n",
            "17/17 [==============================] - ETA: 0s - loss: 0.8626 - mae: 0.7225"
          ]
        },
        {
          "output_type": "stream",
          "name": "stderr",
          "text": [
            "WARNING:tensorflow:Early stopping conditioned on metric `val_mean_absolute_error` which is not available. Available metrics are: loss,mae,val_loss,val_mae\n"
          ]
        },
        {
          "output_type": "stream",
          "name": "stdout",
          "text": [
            "\b\b\b\b\b\b\b\b\b\b\b\b\b\b\b\b\b\b\b\b\b\b\b\b\b\b\b\b\b\b\b\b\b\b\b\b\b\b\b\b\b\b\b\b\b\b\b\b\b\b\b\b\b\b\b\b\b\b\b\b\b\b\b\b\b\b\b\b\b\b\b\b\b\b\b\b\b\r17/17 [==============================] - 38s 2s/step - loss: 0.8626 - mae: 0.7225 - val_loss: 0.8731 - val_mae: 0.7355\n",
            "Epoch 34/50\n",
            "17/17 [==============================] - ETA: 0s - loss: 0.8633 - mae: 0.7246"
          ]
        },
        {
          "output_type": "stream",
          "name": "stderr",
          "text": [
            "WARNING:tensorflow:Early stopping conditioned on metric `val_mean_absolute_error` which is not available. Available metrics are: loss,mae,val_loss,val_mae\n"
          ]
        },
        {
          "output_type": "stream",
          "name": "stdout",
          "text": [
            "\b\b\b\b\b\b\b\b\b\b\b\b\b\b\b\b\b\b\b\b\b\b\b\b\b\b\b\b\b\b\b\b\b\b\b\b\b\b\b\b\b\b\b\b\b\b\b\b\b\b\b\b\b\b\b\b\b\b\b\b\b\b\b\b\b\b\b\b\b\b\b\b\b\b\b\b\b\r17/17 [==============================] - 38s 2s/step - loss: 0.8633 - mae: 0.7246 - val_loss: 0.8695 - val_mae: 0.7320\n",
            "Epoch 35/50\n",
            "17/17 [==============================] - ETA: 0s - loss: 0.8654 - mae: 0.7239"
          ]
        },
        {
          "output_type": "stream",
          "name": "stderr",
          "text": [
            "WARNING:tensorflow:Early stopping conditioned on metric `val_mean_absolute_error` which is not available. Available metrics are: loss,mae,val_loss,val_mae\n"
          ]
        },
        {
          "output_type": "stream",
          "name": "stdout",
          "text": [
            "\b\b\b\b\b\b\b\b\b\b\b\b\b\b\b\b\b\b\b\b\b\b\b\b\b\b\b\b\b\b\b\b\b\b\b\b\b\b\b\b\b\b\b\b\b\b\b\b\b\b\b\b\b\b\b\b\b\b\b\b\b\b\b\b\b\b\b\b\b\b\b\b\b\b\b\b\b\r17/17 [==============================] - 38s 2s/step - loss: 0.8654 - mae: 0.7239 - val_loss: 0.8684 - val_mae: 0.7313\n",
            "Epoch 36/50\n",
            "17/17 [==============================] - ETA: 0s - loss: 0.8528 - mae: 0.7195"
          ]
        },
        {
          "output_type": "stream",
          "name": "stderr",
          "text": [
            "WARNING:tensorflow:Early stopping conditioned on metric `val_mean_absolute_error` which is not available. Available metrics are: loss,mae,val_loss,val_mae\n"
          ]
        },
        {
          "output_type": "stream",
          "name": "stdout",
          "text": [
            "\b\b\b\b\b\b\b\b\b\b\b\b\b\b\b\b\b\b\b\b\b\b\b\b\b\b\b\b\b\b\b\b\b\b\b\b\b\b\b\b\b\b\b\b\b\b\b\b\b\b\b\b\b\b\b\b\b\b\b\b\b\b\b\b\b\b\b\b\b\b\b\b\b\b\b\b\b\r17/17 [==============================] - 38s 2s/step - loss: 0.8528 - mae: 0.7195 - val_loss: 0.8651 - val_mae: 0.7309\n",
            "Epoch 37/50\n",
            "17/17 [==============================] - ETA: 0s - loss: 0.8612 - mae: 0.7234"
          ]
        },
        {
          "output_type": "stream",
          "name": "stderr",
          "text": [
            "WARNING:tensorflow:Early stopping conditioned on metric `val_mean_absolute_error` which is not available. Available metrics are: loss,mae,val_loss,val_mae\n"
          ]
        },
        {
          "output_type": "stream",
          "name": "stdout",
          "text": [
            "\b\b\b\b\b\b\b\b\b\b\b\b\b\b\b\b\b\b\b\b\b\b\b\b\b\b\b\b\b\b\b\b\b\b\b\b\b\b\b\b\b\b\b\b\b\b\b\b\b\b\b\b\b\b\b\b\b\b\b\b\b\b\b\b\b\b\b\b\b\b\b\b\b\b\b\b\b\r17/17 [==============================] - 39s 2s/step - loss: 0.8612 - mae: 0.7234 - val_loss: 0.8660 - val_mae: 0.7335\n",
            "Epoch 38/50\n",
            "17/17 [==============================] - ETA: 0s - loss: 0.8535 - mae: 0.7205"
          ]
        },
        {
          "output_type": "stream",
          "name": "stderr",
          "text": [
            "WARNING:tensorflow:Early stopping conditioned on metric `val_mean_absolute_error` which is not available. Available metrics are: loss,mae,val_loss,val_mae\n"
          ]
        },
        {
          "output_type": "stream",
          "name": "stdout",
          "text": [
            "\b\b\b\b\b\b\b\b\b\b\b\b\b\b\b\b\b\b\b\b\b\b\b\b\b\b\b\b\b\b\b\b\b\b\b\b\b\b\b\b\b\b\b\b\b\b\b\b\b\b\b\b\b\b\b\b\b\b\b\b\b\b\b\b\b\b\b\b\b\b\b\b\b\b\b\b\b\r17/17 [==============================] - 40s 2s/step - loss: 0.8535 - mae: 0.7205 - val_loss: 0.8628 - val_mae: 0.7294\n",
            "Epoch 39/50\n",
            "17/17 [==============================] - ETA: 0s - loss: 0.8497 - mae: 0.7199"
          ]
        },
        {
          "output_type": "stream",
          "name": "stderr",
          "text": [
            "WARNING:tensorflow:Early stopping conditioned on metric `val_mean_absolute_error` which is not available. Available metrics are: loss,mae,val_loss,val_mae\n"
          ]
        },
        {
          "output_type": "stream",
          "name": "stdout",
          "text": [
            "\b\b\b\b\b\b\b\b\b\b\b\b\b\b\b\b\b\b\b\b\b\b\b\b\b\b\b\b\b\b\b\b\b\b\b\b\b\b\b\b\b\b\b\b\b\b\b\b\b\b\b\b\b\b\b\b\b\b\b\b\b\b\b\b\b\b\b\b\b\b\b\b\b\b\b\b\b\r17/17 [==============================] - 39s 2s/step - loss: 0.8497 - mae: 0.7199 - val_loss: 0.8626 - val_mae: 0.7301\n",
            "Epoch 40/50\n",
            "17/17 [==============================] - ETA: 0s - loss: 0.8485 - mae: 0.7231"
          ]
        },
        {
          "output_type": "stream",
          "name": "stderr",
          "text": [
            "WARNING:tensorflow:Early stopping conditioned on metric `val_mean_absolute_error` which is not available. Available metrics are: loss,mae,val_loss,val_mae\n"
          ]
        },
        {
          "output_type": "stream",
          "name": "stdout",
          "text": [
            "\b\b\b\b\b\b\b\b\b\b\b\b\b\b\b\b\b\b\b\b\b\b\b\b\b\b\b\b\b\b\b\b\b\b\b\b\b\b\b\b\b\b\b\b\b\b\b\b\b\b\b\b\b\b\b\b\b\b\b\b\b\b\b\b\b\b\b\b\b\b\b\b\b\b\b\b\b\r17/17 [==============================] - 38s 2s/step - loss: 0.8485 - mae: 0.7231 - val_loss: 0.8628 - val_mae: 0.7303\n",
            "Epoch 41/50\n",
            "17/17 [==============================] - ETA: 0s - loss: 0.8406 - mae: 0.7165"
          ]
        },
        {
          "output_type": "stream",
          "name": "stderr",
          "text": [
            "WARNING:tensorflow:Early stopping conditioned on metric `val_mean_absolute_error` which is not available. Available metrics are: loss,mae,val_loss,val_mae\n"
          ]
        },
        {
          "output_type": "stream",
          "name": "stdout",
          "text": [
            "\b\b\b\b\b\b\b\b\b\b\b\b\b\b\b\b\b\b\b\b\b\b\b\b\b\b\b\b\b\b\b\b\b\b\b\b\b\b\b\b\b\b\b\b\b\b\b\b\b\b\b\b\b\b\b\b\b\b\b\b\b\b\b\b\b\b\b\b\b\b\b\b\b\b\b\b\b\r17/17 [==============================] - 38s 2s/step - loss: 0.8406 - mae: 0.7165 - val_loss: 0.8646 - val_mae: 0.7303\n",
            "Epoch 42/50\n",
            "17/17 [==============================] - ETA: 0s - loss: 0.8461 - mae: 0.7178"
          ]
        },
        {
          "output_type": "stream",
          "name": "stderr",
          "text": [
            "WARNING:tensorflow:Early stopping conditioned on metric `val_mean_absolute_error` which is not available. Available metrics are: loss,mae,val_loss,val_mae\n"
          ]
        },
        {
          "output_type": "stream",
          "name": "stdout",
          "text": [
            "\b\b\b\b\b\b\b\b\b\b\b\b\b\b\b\b\b\b\b\b\b\b\b\b\b\b\b\b\b\b\b\b\b\b\b\b\b\b\b\b\b\b\b\b\b\b\b\b\b\b\b\b\b\b\b\b\b\b\b\b\b\b\b\b\b\b\b\b\b\b\b\b\b\b\b\b\b\r17/17 [==============================] - 38s 2s/step - loss: 0.8461 - mae: 0.7178 - val_loss: 0.8619 - val_mae: 0.7273\n",
            "Epoch 43/50\n",
            "17/17 [==============================] - ETA: 0s - loss: 0.8421 - mae: 0.7163"
          ]
        },
        {
          "output_type": "stream",
          "name": "stderr",
          "text": [
            "WARNING:tensorflow:Early stopping conditioned on metric `val_mean_absolute_error` which is not available. Available metrics are: loss,mae,val_loss,val_mae\n"
          ]
        },
        {
          "output_type": "stream",
          "name": "stdout",
          "text": [
            "\b\b\b\b\b\b\b\b\b\b\b\b\b\b\b\b\b\b\b\b\b\b\b\b\b\b\b\b\b\b\b\b\b\b\b\b\b\b\b\b\b\b\b\b\b\b\b\b\b\b\b\b\b\b\b\b\b\b\b\b\b\b\b\b\b\b\b\b\b\b\b\b\b\b\b\b\b\r17/17 [==============================] - 39s 2s/step - loss: 0.8421 - mae: 0.7163 - val_loss: 0.8577 - val_mae: 0.7277\n",
            "Epoch 44/50\n",
            "17/17 [==============================] - ETA: 0s - loss: 0.8373 - mae: 0.7168"
          ]
        },
        {
          "output_type": "stream",
          "name": "stderr",
          "text": [
            "WARNING:tensorflow:Early stopping conditioned on metric `val_mean_absolute_error` which is not available. Available metrics are: loss,mae,val_loss,val_mae\n"
          ]
        },
        {
          "output_type": "stream",
          "name": "stdout",
          "text": [
            "\b\b\b\b\b\b\b\b\b\b\b\b\b\b\b\b\b\b\b\b\b\b\b\b\b\b\b\b\b\b\b\b\b\b\b\b\b\b\b\b\b\b\b\b\b\b\b\b\b\b\b\b\b\b\b\b\b\b\b\b\b\b\b\b\b\b\b\b\b\b\b\b\b\b\b\b\b\r17/17 [==============================] - 38s 2s/step - loss: 0.8373 - mae: 0.7168 - val_loss: 0.8586 - val_mae: 0.7299\n",
            "Epoch 45/50\n",
            "17/17 [==============================] - ETA: 0s - loss: 0.8366 - mae: 0.7166"
          ]
        },
        {
          "output_type": "stream",
          "name": "stderr",
          "text": [
            "WARNING:tensorflow:Early stopping conditioned on metric `val_mean_absolute_error` which is not available. Available metrics are: loss,mae,val_loss,val_mae\n"
          ]
        },
        {
          "output_type": "stream",
          "name": "stdout",
          "text": [
            "\b\b\b\b\b\b\b\b\b\b\b\b\b\b\b\b\b\b\b\b\b\b\b\b\b\b\b\b\b\b\b\b\b\b\b\b\b\b\b\b\b\b\b\b\b\b\b\b\b\b\b\b\b\b\b\b\b\b\b\b\b\b\b\b\b\b\b\b\b\b\b\b\b\b\b\b\b\r17/17 [==============================] - 41s 2s/step - loss: 0.8366 - mae: 0.7166 - val_loss: 0.8564 - val_mae: 0.7275\n",
            "Epoch 46/50\n",
            "17/17 [==============================] - ETA: 0s - loss: 0.8382 - mae: 0.7151"
          ]
        },
        {
          "output_type": "stream",
          "name": "stderr",
          "text": [
            "WARNING:tensorflow:Early stopping conditioned on metric `val_mean_absolute_error` which is not available. Available metrics are: loss,mae,val_loss,val_mae\n"
          ]
        },
        {
          "output_type": "stream",
          "name": "stdout",
          "text": [
            "\b\b\b\b\b\b\b\b\b\b\b\b\b\b\b\b\b\b\b\b\b\b\b\b\b\b\b\b\b\b\b\b\b\b\b\b\b\b\b\b\b\b\b\b\b\b\b\b\b\b\b\b\b\b\b\b\b\b\b\b\b\b\b\b\b\b\b\b\b\b\b\b\b\b\b\b\b\r17/17 [==============================] - 39s 2s/step - loss: 0.8382 - mae: 0.7151 - val_loss: 0.8554 - val_mae: 0.7262\n",
            "Epoch 47/50\n",
            "17/17 [==============================] - ETA: 0s - loss: 0.8388 - mae: 0.7159"
          ]
        },
        {
          "output_type": "stream",
          "name": "stderr",
          "text": [
            "WARNING:tensorflow:Early stopping conditioned on metric `val_mean_absolute_error` which is not available. Available metrics are: loss,mae,val_loss,val_mae\n"
          ]
        },
        {
          "output_type": "stream",
          "name": "stdout",
          "text": [
            "\b\b\b\b\b\b\b\b\b\b\b\b\b\b\b\b\b\b\b\b\b\b\b\b\b\b\b\b\b\b\b\b\b\b\b\b\b\b\b\b\b\b\b\b\b\b\b\b\b\b\b\b\b\b\b\b\b\b\b\b\b\b\b\b\b\b\b\b\b\b\b\b\b\b\b\b\b\r17/17 [==============================] - 39s 2s/step - loss: 0.8388 - mae: 0.7159 - val_loss: 0.8537 - val_mae: 0.7270\n",
            "Epoch 48/50\n",
            "17/17 [==============================] - ETA: 0s - loss: 0.8299 - mae: 0.7126"
          ]
        },
        {
          "output_type": "stream",
          "name": "stderr",
          "text": [
            "WARNING:tensorflow:Early stopping conditioned on metric `val_mean_absolute_error` which is not available. Available metrics are: loss,mae,val_loss,val_mae\n"
          ]
        },
        {
          "output_type": "stream",
          "name": "stdout",
          "text": [
            "\b\b\b\b\b\b\b\b\b\b\b\b\b\b\b\b\b\b\b\b\b\b\b\b\b\b\b\b\b\b\b\b\b\b\b\b\b\b\b\b\b\b\b\b\b\b\b\b\b\b\b\b\b\b\b\b\b\b\b\b\b\b\b\b\b\b\b\b\b\b\b\b\b\b\b\b\b\r17/17 [==============================] - 38s 2s/step - loss: 0.8299 - mae: 0.7126 - val_loss: 0.8529 - val_mae: 0.7272\n",
            "Epoch 49/50\n",
            "17/17 [==============================] - ETA: 0s - loss: 0.8247 - mae: 0.7098"
          ]
        },
        {
          "output_type": "stream",
          "name": "stderr",
          "text": [
            "WARNING:tensorflow:Early stopping conditioned on metric `val_mean_absolute_error` which is not available. Available metrics are: loss,mae,val_loss,val_mae\n"
          ]
        },
        {
          "output_type": "stream",
          "name": "stdout",
          "text": [
            "\b\b\b\b\b\b\b\b\b\b\b\b\b\b\b\b\b\b\b\b\b\b\b\b\b\b\b\b\b\b\b\b\b\b\b\b\b\b\b\b\b\b\b\b\b\b\b\b\b\b\b\b\b\b\b\b\b\b\b\b\b\b\b\b\b\b\b\b\b\b\b\b\b\b\b\b\b\r17/17 [==============================] - 39s 2s/step - loss: 0.8247 - mae: 0.7098 - val_loss: 0.8525 - val_mae: 0.7254\n",
            "Epoch 50/50\n",
            "17/17 [==============================] - ETA: 0s - loss: 0.8283 - mae: 0.7134"
          ]
        },
        {
          "output_type": "stream",
          "name": "stderr",
          "text": [
            "WARNING:tensorflow:Early stopping conditioned on metric `val_mean_absolute_error` which is not available. Available metrics are: loss,mae,val_loss,val_mae\n"
          ]
        },
        {
          "output_type": "stream",
          "name": "stdout",
          "text": [
            "17/17 [==============================] - 38s 2s/step - loss: 0.8283 - mae: 0.7134 - val_loss: 0.8539 - val_mae: 0.7256\n",
            "17/17 [==============================] - 1s 70ms/step\n"
          ]
        }
      ]
    },
    {
      "cell_type": "markdown",
      "source": [
        "Vemoas los primeros 10 resultados"
      ],
      "metadata": {
        "id": "lM9-KCA-ce83"
      }
    },
    {
      "cell_type": "code",
      "source": [
        "predicciones[:10]"
      ],
      "metadata": {
        "colab": {
          "base_uri": "https://localhost:8080/"
        },
        "id": "xqVhbaEPclXH",
        "outputId": "da94193f-07d4-4275-db88-43e93df1d180"
      },
      "execution_count": 5,
      "outputs": [
        {
          "output_type": "execute_result",
          "data": {
            "text/plain": [
              "array([-0.19971894, -0.25664106, -0.2567696 , -0.35159168, -0.40151888,\n",
              "       -0.35401353,  0.13065691, -0.40679875, -0.09927557, -0.4699581 ],\n",
              "      dtype=float32)"
            ]
          },
          "metadata": {},
          "execution_count": 5
        }
      ]
    },
    {
      "cell_type": "markdown",
      "source": [
        "Veamos los resultados esperados"
      ],
      "metadata": {
        "id": "8rvv4jMLckHX"
      }
    },
    {
      "cell_type": "code",
      "source": [
        "testPheno[:10]"
      ],
      "metadata": {
        "colab": {
          "base_uri": "https://localhost:8080/"
        },
        "id": "PLZOg7TpNwtK",
        "outputId": "d5d41099-e2bd-42a3-88b1-856d6948518f"
      },
      "execution_count": 6,
      "outputs": [
        {
          "output_type": "execute_result",
          "data": {
            "text/plain": [
              "array([-0.6124981 ,  0.56616529, -0.2623155 ,  0.74552711,  0.43804971,\n",
              "        0.75406815, -0.56125186,  0.51491906, -0.7235316 , -0.16836407])"
            ]
          },
          "metadata": {},
          "execution_count": 6
        }
      ]
    },
    {
      "cell_type": "markdown",
      "source": [
        "Como podemos observar, es complicado encontrar a simple vista la precisión del modelo. Por lo tanto, en el paper utilizan el coeficiente de correlación de Pearson para medir la precisión de la red neuronal. Hagamos eso:"
      ],
      "metadata": {
        "id": "yeZNnloHcvvw"
      }
    },
    {
      "cell_type": "code",
      "source": [
        "Coeficiente=pearsonr(predicciones,testPheno)[0]\n",
        "print(Coeficiente)"
      ],
      "metadata": {
        "colab": {
          "base_uri": "https://localhost:8080/"
        },
        "id": "sXytKYX2dBzJ",
        "outputId": "4b5ce2e6-e053-430f-bbd0-037de391d1e5"
      },
      "execution_count": 7,
      "outputs": [
        {
          "output_type": "stream",
          "name": "stdout",
          "text": [
            "0.43603261559434203\n"
          ]
        }
      ]
    },
    {
      "cell_type": "markdown",
      "source": [
        "De acuerdo con los resultados del paper, este coeficiente de correlación es mejor que el de los demás métodos estadísticos utilizados en la misma tarea. Por lo tanto, aunque aun no tenemos una correlación perfecta, podemos decir que las redes neuronales resultan ser un buen método de predicción de fenotipos utilizando información genómica."
      ],
      "metadata": {
        "id": "7ta2ISCClKKU"
      }
    }
  ]
}